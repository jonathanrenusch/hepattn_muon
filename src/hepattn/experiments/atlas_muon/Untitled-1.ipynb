{
 "cells": [
  {
   "cell_type": "code",
   "execution_count": null,
   "id": "cca0a449",
   "metadata": {},
   "outputs": [
    {
     "name": "stdout",
     "output_type": "stream",
     "text": [
      "Tree: MuonHitDump;1\n",
      "Branches:\n",
      "bcid\n",
      "bucket_index\n",
      "bucket_spacePoints\n",
      "bucket_stationEta\n",
      "bucket_stationIndex\n",
      "bucket_stationPhi\n",
      "bucket_xMax\n",
      "bucket_xMin\n",
      "eventNumber\n",
      "lbNumber\n",
      "mcChannelNumber\n",
      "mcEventWeight\n",
      "runNumber\n",
      "spacePoint_PositionX\n",
      "spacePoint_PositionY\n",
      "spacePoint_PositionZ\n",
      "spacePoint_channel\n",
      "spacePoint_covXX\n",
      "spacePoint_covXY\n",
      "spacePoint_covYX\n",
      "spacePoint_covYY\n",
      "spacePoint_driftR\n",
      "spacePoint_globEdgeHighX\n",
      "spacePoint_globEdgeHighY\n",
      "spacePoint_globEdgeHighZ\n",
      "spacePoint_globEdgeLowX\n",
      "spacePoint_globEdgeLowY\n",
      "spacePoint_globEdgeLowZ\n",
      "spacePoint_globPosX\n",
      "spacePoint_globPosY\n",
      "spacePoint_globPosZ\n",
      "spacePoint_layer\n",
      "spacePoint_measEta\n",
      "spacePoint_measPhi\n",
      "spacePoint_nEtaInUse\n",
      "spacePoint_nPhiInUse\n",
      "spacePoint_readOutSide\n",
      "spacePoint_secChannel\n",
      "spacePoint_stationEta\n",
      "spacePoint_stationIndex\n",
      "spacePoint_stationPhi\n",
      "spacePoint_technology\n",
      "spacePoint_time\n",
      "spacePoint_truthLink\n",
      "truthMuon_pt\n",
      "truthMuon_eta\n",
      "truthMuon_phi\n",
      "truthMuon_e\n",
      "truthMuon_q\n"
     ]
    }
   ],
   "source": [
    "import uproot\n",
    "\n",
    "with uproot.open(\"/home/iwsatlas1/jrenusch/master_thesis/tracking/data/root/ml_training_data/P8B_A14_CTEQ6L1_Jpsi1S_mu6mu6_PU200_skip12500_n2500.root\") as file:\n",
    "    for tree_name in file.keys():\n",
    "        tree = file[tree_name]\n",
    "        print(f\"Tree: {tree_name}\")\n",
    "        print(\"Branches:\")\n",
    "        for branch in tree.keys():\n",
    "            print(branch)\n",
    "\n",
    "\n",
    "print()"
   ]
  },
  {
   "cell_type": "code",
   "execution_count": null,
   "id": "93dd4f2e",
   "metadata": {},
   "outputs": [],
   "source": []
  }
 ],
 "metadata": {
  "kernelspec": {
   "display_name": "root_env",
   "language": "python",
   "name": "python3"
  },
  "language_info": {
   "codemirror_mode": {
    "name": "ipython",
    "version": 3
   },
   "file_extension": ".py",
   "mimetype": "text/x-python",
   "name": "python",
   "nbconvert_exporter": "python",
   "pygments_lexer": "ipython3",
   "version": "3.11.9"
  }
 },
 "nbformat": 4,
 "nbformat_minor": 5
}
