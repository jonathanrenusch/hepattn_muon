{
 "cells": [
  {
   "cell_type": "code",
   "execution_count": null,
   "id": "4ab79f93",
   "metadata": {
    "vscode": {
     "languageId": "plaintext"
    }
   },
   "outputs": [],
   "source": [
    "import warnings\n",
    "from pathlib import Path\n",
    "\n",
    "import matplotlib.pyplot as plt\n",
    "import numpy as np\n",
    "import pandas as pd\n",
    "import sklearn.metrics as metrics\n",
    "from scipy.stats import binned_statistic\n",
    "\n",
    "# Note: These imports may need to be updated based on your hepattn package structure\n",
    "# from hepformer.tracking.eval.evaluate import eval_events as eval_events_tracking\n",
    "# from hepformer.tracking.eval.hit_eval import load_events as eval_events_filtering\n",
    "# from hepformer.tracking.eval.plots import binned, profile_plot\n",
    "\n",
    "# Placeholder imports - update these based on your actual hepattn structure\n",
    "from hepattn.tracking.eval.evaluate import eval_events as eval_events_tracking\n",
    "from hepattn.tracking.eval.hit_eval import load_events as eval_events_filtering\n",
    "from hepattn.tracking.eval.plots import binned, profile_plot\n",
    "\n",
    "warnings.filterwarnings(\"ignore\")\n",
    "\n",
    "plt.rcParams[\"figure.dpi\"] = 400\n",
    "plt.rcParams[\"text.usetex\"] = True\n",
    "plt.rcParams[\"font.family\"] = \"serif\"\n",
    "plt.rcParams[\"figure.constrained_layout.use\"] = True"
   ]
  },
  {
   "cell_type": "code",
   "execution_count": null,
   "id": "4baad526",
   "metadata": {
    "vscode": {
     "languageId": "plaintext"
    }
   },
   "outputs": [],
   "source": [
    "# Setup\n",
    "out_dir = Path(\"/share/rcifdata/maxhart/hepformer-paper-plots/hepformer/hepformer/tracking/eval/plots\")\n",
    "out_dir = Path(\"/share/rcifdata/svanstroud/hepformer/hepformer/tracking/eval/plots/new/\")\n",
    "out_dir.mkdir(exist_ok=True)\n",
    "\n",
    "training_colours = {\n",
    "    \"600 MeV\": \"mediumvioletred\",\n",
    "    \"750 MeV\": \"cornflowerblue\",\n",
    "    # \"1 GeV\": \"mediumseagreen\", # |eta| < 2.5\n",
    "    \"1 GeV\": \"mediumseagreen\",  # |eta| < 4.0\n",
    "}\n",
    "\n",
    "qty_bins = {\n",
    "    \"pt\": np.array([0.6, 0.75, 1.0, 1.5, 2, 3, 4, 6, 10]),\n",
    "    # \"eta\": np.array([-2.5, -2, -1.5, -1, -0.5, 0, 0.5, 1, 1.5, 2, 2.5]),\n",
    "    \"eta\": np.array([-5, -4.5, -4, -3.5, -3, -2.5, -2, -1.5, -1, -0.5, 0, 0.5, 1, 1.5, 2, 2.5, 3, 3.5, 4, 4.5, 5]),\n",
    "    \"phi\": np.array([-3.14, -2.36, -1.57, -0.79, 0, 0.79, 1.57, 2.36, 3.14]),\n",
    "    \"vz\": np.array([-100, -50, -20, -10, 0, 10, 20, 50, 100]),\n",
    "}\n",
    "\n",
    "qty_symbols = {\"pt\": \"p_\\\\mathrm{T}\", \"eta\": \"\\\\eta\", \"phi\": \"\\\\phi\", \"vz\": \"v_z\"}\n",
    "qty_units = {\"pt\": \"[GeV]\", \"eta\": \"\", \"phi\": \"\", \"vz\": \"[mm]\"}"
   ]
  },
  {
   "cell_type": "code",
   "execution_count": null,
   "id": "bd0b0981",
   "metadata": {
    "vscode": {
     "languageId": "plaintext"
    }
   },
   "outputs": [],
   "source": [
    "# Hit filter plots\n",
    "filtering_fnames = {\n",
    "    \"600 MeV\": \"/share/rcifdata/svanstroud/hepformer/hepformer/tracking/logs/HC-final-0.6GeV_20241007-T092114/ckpts/epoch=029-val_loss=0.09947__test_test.h5\",\n",
    "    \"750 MeV\": \"/share/rcifdata/svanstroud/hepformer/hepformer/tracking/logs/HC-final-0.75GeV_20241007-T092015/ckpts/epoch=029-val_loss=0.09307__test_train.h5\",\n",
    "    # \"1 GeV\": \"/share/rcifdata/svanstroud/hepformer/hepformer/tracking/logs/HC-final-1GeV_20241007-T092359/ckpts/epoch=029-val_loss=0.09906__test_test.h5\",\n",
    "    \"1 GeV\": \"/share/rcifdata/svanstroud/hepformer/hepformer/tracking/logs/HC-final-1GeV-eta5_20250303-T193944/ckpts/epoch=028-val_loss=0.13227__test_test.h5\",\n",
    "}\n",
    "\n",
    "num_events = 1\n",
    "filtering_results = {}\n",
    "# Comment out until the correct imports are fixed\n",
    "# for name, fname in filtering_fnames.items():\n",
    "#     hits, parts = eval_events_filtering(fname, num_events=num_events, hit_cut=0.1)\n",
    "#     filtering_results[name] = (hits, parts)\n",
    "\n",
    "print(\"Cell ready to run once eval_events_filtering is properly imported\")"
   ]
  },
  {
   "cell_type": "code",
   "execution_count": null,
   "id": "d3eee86a",
   "metadata": {
    "vscode": {
     "languageId": "plaintext"
    }
   },
   "outputs": [],
   "source": [
    "filtering_table = []\n",
    "\n",
    "rows = {\n",
    "    \"600 MeV\": {\"Layers\": 12, \"Param. Count\": \"5.4M\", \"Inference Time [ms]\": 37.8},\n",
    "    \"750 MeV\": {\"Layers\": 12, \"Param. Count\": \"5.4M\", \"Inference Time [ms]\": 37.5},\n",
    "    # \"1 GeV\": {\"Layers\": 8, \"Param. Count\": \"5.4M\", \"Inference Time [ms]\": 25.2},\n",
    "    \"1 GeV\": {\"Layers\": 12, \"Param. Count\": \"9999M\", \"Inference Time [ms]\": 28.7},  # this is with compile callback but not sure the others are\n",
    "}\n",
    "\n",
    "# Comment out until filtering_results is available\n",
    "# for name, (hits, parts) in filtering_results.items():\n",
    "#     row = {\"Model\": name} | rows[name]\n",
    "#\n",
    "#     hit_eff = (hits.pred & hits.tgt).sum() / hits.tgt.sum()\n",
    "#     hit_pur_post = (hits.pred & hits.tgt).sum() / hits.pred.sum()\n",
    "#     hit_pur_pre = hits[\"tgt\"].sum() / len(hits)\n",
    "#\n",
    "#     # se_recall = (recall * (1 - recall) / hits.tgt.sum()) ** 0.5\n",
    "#     # se_precision = (precision * (1 - precision) / hits.pred.sum()) ** 0.5\n",
    "#     # pre_count, _,  _ = binned_statistic(parts[\"pt\"], parts[\"reconstructable_pre\"], statistic=\"count\", bins=bins)\n",
    "#     # post_count, _, _ = binned_statistic(parts[\"pt\"], parts[\"reconstructable_post\"], statistic=\"count\", bins=bins)\n",
    "#\n",
    "#     eff_perf = parts[\"reconstructable_post\"].sum() / parts[\"reconstructable_pre\"].sum()\n",
    "#     eff_perf_hipt = parts[\"reconstructable_post\"][parts[\"pt\"] > 0.9].sum() / parts[\"reconstructable_pre\"][parts[\"pt\"] > 0.9].sum()\n",
    "#\n",
    "#     row[\"Hit Efficiency\"] = 100 * hit_eff\n",
    "#     row[\"Hit Purity (Pre)\"] = 100 * hit_pur_pre\n",
    "#     row[\"Hit Purity (Post)\"] = 100 * hit_pur_post\n",
    "#     row[\"\\\\varepsilon^\\\\mathrm{perfect}\"] = 100 * eff_perf\n",
    "#     row[\"\\\\varepsilon^\\\\mathrm{perfect}_{p_\\\\mathrm{T} \\\\geq 0.9}\"] = 100 * eff_perf_hipt\n",
    "#\n",
    "#     fpr, tpr, thresholds = metrics.roc_curve(hits[\"tgt\"], hits[\"prob\"])\n",
    "#     row[\"AUC\"] = metrics.auc(fpr, tpr)\n",
    "#\n",
    "#     filtering_table.append(row)\n",
    "#\n",
    "# filtering_table = pd.DataFrame.from_dict(filtering_table)\n",
    "# filtering_table\n",
    "\n",
    "print(\"Cell ready to run once filtering_results is available\")"
   ]
  },
  {
   "cell_type": "code",
   "execution_count": null,
   "id": "c94c1a81",
   "metadata": {
    "vscode": {
     "languageId": "plaintext"
    }
   },
   "outputs": [],
   "source": [
    "# main hit filter performance plots\n",
    "from matplotlib.lines import Line2D\n",
    "\n",
    "# Comment out until filtering_results is available\n",
    "# fig, ax = plt.subplots(nrows=1, ncols=2, constrained_layout=True)\n",
    "# fig.set_size_inches(10, 3)\n",
    "# bins = np.linspace(0, 1, 24)\n",
    "\n",
    "# for training, (hits, parts) in filtering_results.items():\n",
    "#     colour = training_colours[training]\n",
    "#     prec, recall, threshold = metrics.precision_recall_curve(hits[\"tgt\"], hits[\"prob\"])\n",
    "#     idx = np.argmin(np.abs(threshold - 0.1))\n",
    "\n",
    "#     ax[0].plot(recall, prec, color=colour, label=training)\n",
    "#     ax[0].scatter(recall[idx], prec[idx], color=colour)\n",
    "\n",
    "#     bins = qty_bins[\"pt\"]\n",
    "#     b = (bins[:-1] + bins[1:]) / 2\n",
    "#     b_err = (bins[1:] - bins[:-1]) / 2\n",
    "\n",
    "#     pt_bin_count, _, _ = binned_statistic(parts[\"pt\"], parts[\"reconstructable_post\"], statistic=\"count\", bins=bins)\n",
    "#     post_count, _, _ = binned_statistic(parts[\"pt\"], parts[\"reconstructable_post\"], statistic=\"sum\", bins=bins)\n",
    "#     pre_count, _, _ = binned_statistic(parts[\"pt\"], parts[\"reconstructable_pre\"], statistic=\"sum\", bins=bins)\n",
    "\n",
    "#     ys = post_count / pre_count\n",
    "#     ys_err = np.sqrt(ys * (1 - ys) / pt_bin_count)\n",
    "#     label = training\n",
    "#     ax[1].errorbar(b, ys, yerr=None, xerr=b_err, color=colour, fmt=\".\", label=label, marker=\"s\", markersize=2.0)\n",
    "#     ax[1].errorbar(b, ys, yerr=ys_err, xerr=None, color=colour, fmt=\".\", marker=\"none\", capsize=5.0, markeredgewidth=1.0)\n",
    "#     pt_value = {\"600 MeV\": 0.6, \"750 MeV\": 0.75, \"1 GeV\": 1.0, \"1 GeV eta 4\": 1.0}[training]\n",
    "\n",
    "# ax[0].set_xlim(0.9, 1.01)\n",
    "# ax[0].set_ylim(0.3, 1.01)\n",
    "# ax[1].set_ylim(0.97, 1.0)\n",
    "# ax[0].set_ylabel(\"Hit purity\")\n",
    "# ax[0].set_xlabel(\"Hit efficiency\")\n",
    "# ax[1].set_ylabel(\"Reconstructable particles\")\n",
    "# ax[1].set_xlabel(r\"Particle $p_\\mathrm{T}$ [GeV]\")\n",
    "# ax[0].grid(zorder=0, alpha=0.25, linestyle=\"--\")\n",
    "# ax[1].grid(zorder=0, alpha=0.25, linestyle=\"--\")\n",
    "# ax[0].legend(frameon=False)\n",
    "# legend_elements = [Line2D([0], [0], color=training_colours[training], label=training) for training in filtering_results]\n",
    "# ax[1].legend(handles=legend_elements, frameon=False, loc=\"lower left\")\n",
    "\n",
    "# fig.savefig(out_dir / \"filter_response.pdf\")\n",
    "# fig.show()\n",
    "\n",
    "print(\"Plotting cell ready to run once filtering_results is available\")"
   ]
  },
  {
   "cell_type": "code",
   "execution_count": null,
   "id": "8eea7168",
   "metadata": {
    "vscode": {
     "languageId": "plaintext"
    }
   },
   "outputs": [],
   "source": [
    "# Test cell to verify environment is working\n",
    "print(\"Jupyter environment is working!\")\n",
    "print(f\"NumPy version: {np.__version__}\")\n",
    "print(f\"Pandas version: {pd.__version__}\")\n",
    "print(f\"Matplotlib version: {plt.__version__}\")\n",
    "\n",
    "# Simple plot test\n",
    "fig, ax = plt.subplots()\n",
    "x = np.linspace(0, 10, 100)\n",
    "y = np.sin(x)\n",
    "ax.plot(x, y)\n",
    "ax.set_title(\"Test Plot\")\n",
    "plt.show()"
   ]
  }
 ],
 "metadata": {
  "language_info": {
   "name": "python"
  }
 },
 "nbformat": 4,
 "nbformat_minor": 5
}
